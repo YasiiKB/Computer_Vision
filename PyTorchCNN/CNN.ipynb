{
 "cells": [
  {
   "cell_type": "markdown",
   "metadata": {},
   "source": [
    "### Get a Feel on MNIST"
   ]
  },
  {
   "cell_type": "code",
   "execution_count": 2,
   "metadata": {},
   "outputs": [
    {
     "name": "stdout",
     "output_type": "stream",
     "text": [
      "torch.Size([4, 1, 28, 28])\n"
     ]
    },
    {
     "data": {
      "image/png": "[encoded data removed]",
      "text/plain": [
       "<Figure size 640x480 with 1 Axes>"
      ]
     },
     "metadata": {},
     "output_type": "display_data"
    },
    {
     "name": "stdout",
     "output_type": "stream",
     "text": [
      "Labels: [6, 7, 0, 4]\n"
     ]
    }
   ],
   "source": [
    "# Install Dependencies \n",
    "import numpy as np\n",
    "import torch\n",
    "import torchvision\n",
    "import torchvision.transforms as transforms\n",
    "import matplotlib.pyplot as plt\n",
    "\n",
    "# Define the transform to normalize the data\n",
    "transform = transforms.Compose([\n",
    "    transforms.ToTensor(),\n",
    "    transforms.Normalize((0.1307,), (0.3081,))  # mean=0.1307, std=0.3081\n",
    "    # transforms.Normalize((0.5,), (0.5,))  # higher quality images (normalize less)\n",
    "])\n",
    "\n",
    "# Download and load the MNIST training dataset\n",
    "train_dataset = torchvision.datasets.MNIST(root='./PyTorchCNN/data', train=True, download=True, transform=transform)\n",
    "train_loader = torch.utils.data.DataLoader(dataset=train_dataset, batch_size=4, shuffle=True)\n",
    "\n",
    "\n",
    "# Get a batch of images and labels\n",
    "dataiter = iter(train_loader)\n",
    "images, labels = next(dataiter)\n",
    "print(images.shape)\n",
    "\n",
    "# Function to display images\n",
    "def imshow(img):\n",
    "    img = img / 2 + 0.5  # Unnormalize\n",
    "    npimg = img.numpy()\n",
    "    plt.imshow(np.transpose(npimg, (1, 2, 0)))\n",
    "    plt.show()\n",
    "\n",
    "# Show images\n",
    "imshow(torchvision.utils.make_grid(images))\n",
    "print('Labels:', labels.tolist())\n"
   ]
  },
  {
   "cell_type": "markdown",
   "metadata": {},
   "source": [
    "### Important Observations \n",
    "#### What are the inputs to cross-entropy error function?\n",
    "Basically the input to any error function is the true lables and the predicted probabilities (scores). In case of cross-entropy error function, true lables are turned to one-hot encoded vectors. The formula is: $$- \\sum_i y_i \\cdot \\log(p_i) $$ where $y_i$ is a one-hot encoded vector representing the true class and $p_i$ is the predicted probability of the corresponding class.\n",
    "\n",
    "#### How and why are these inputs normalized?\n",
    "In cross-entropy error function, normalizing typically refers to the normalization of the predicted probabilities. This normalization is commonly achieved through the softmax activation function. \n",
    "$$ \\text{softmax}(\\mathbf{z})_i = \\frac{e^{z_i}}{\\sum_{j=1}^{k} e^{z_j}} $$\n",
    "\n",
    "Normalization is applied for several reasons:\n",
    "\n",
    "_Numerical Stability:_ Normalizing the predicted probabilities helps maintain numerical stability during the training process. The softmax function is sensitive to large input values, and normalization prevents overflow or underflow issues.\n",
    "\n",
    "_Consistency with Loss Definition:_ The cross-entropy loss is defined based on probabilities. Normalizing the true labels as one-hot encoded vectors and normalizing the predicted probabilities ensures consistency in the definition of the loss function.\n",
    "\n",
    "_Comparison and Interpretability:_ Normalized probabilities allow for a meaningful comparison between the true labels and predictions. The cross-entropy loss penalizes the model more when it is confident about incorrect predictions, and normalization facilitates this comparison.\n",
    "\n",
    "#### What is the impact of learning rate, batch size and momentum?\n",
    "The learning rate, batch size, and momentum are hyperparameters that significantly impact the training process and the performance of a machine learning model, especially in the context of optimization algorithms like stochastic gradient descent (SGD) and its variants. Here's an overview of their impact:\n",
    "\n",
    "<b>1. Learning Rate:</b>\n",
    "\n",
    "* Impact: Learning rate is one of the most critical hyperparameters. It controls the size of the step that the optimization algorithm takes during each iteration. A too small learning rate may result in slow convergence or getting stuck in local minima, while a too large learning rate may cause the optimization to oscillate or diverge.\n",
    "* Effect on Training:\n",
    "    - Higher Learning Rate: Faster convergence but may overshoot the minimum and lead to instability.\n",
    "    - Lower Learning Rate: Slower convergence but more stable and less likely to overshoot.\n",
    "* Tuning:\n",
    "    - Learning rate is often tuned through experimentation. Common values are in the range of 0.1, 0.01, 0.001, etc.\n",
    "    - Techniques like learning rate schedules or adaptive learning rate methods (e.g., Adam, Adagrad) can help automatically adjust the learning rate during training.\n",
    "\n",
    "<b>2. Batch Size:</b>\n",
    "\n",
    "* Impact: Batch size determines the number of samples used in each iteration of training. It affects the quality of the optimization and the computational efficiency.\n",
    "* Effect on Training:\n",
    "    - Larger Batch Size: Smoother convergence, may lead to faster training on hardware optimized for parallel processing (e.g., GPUs).\n",
    "    - Smaller Batch Size: More noisy updates, but can generalize better and might converge to a better minimum.\n",
    "* Tuning:\n",
    "    - Batch size is often chosen based on the available computational resources. Common values are 32, 64, 128, etc.\n",
    "    - Smaller batch sizes may require learning rate adjustments (e.g., a smaller learning rate).\n",
    "\n",
    "<b>3. Momentum: </b>\n",
    "\n",
    "* Impact: Momentum is a term added to the optimization algorithm to accelerate convergence and escape local minima. It helps the optimization algorithm to keep moving in the same direction.\n",
    "* Effect on Training:\n",
    "    - Higher Momentum: Faster convergence, better ability to overcome small local minima.\n",
    "    - Lower Momentum: Slower convergence, but may help avoid oscillations in some cases.\n",
    "* Tuning:\n",
    "    - Common values for momentum are 0.9, 0.95, or higher.\n",
    "    - Momentum is often used in combination with learning rate, and the combination of both should be tuned for optimal performance.\n"
   ]
  },
  {
   "cell_type": "markdown",
   "metadata": {},
   "source": []
  }
 ],
 "metadata": {
  "kernelspec": {
   "display_name": "experiments",
   "language": "python",
   "name": "python3"
  },
  "language_info": {
   "codemirror_mode": {
    "name": "ipython",
    "version": 3
   },
   "file_extension": ".py",
   "mimetype": "text/x-python",
   "name": "python",
   "nbconvert_exporter": "python",
   "pygments_lexer": "ipython3",
   "version": "3.8.18"
  }
 },
 "nbformat": 4,
 "nbformat_minor": 2
}
